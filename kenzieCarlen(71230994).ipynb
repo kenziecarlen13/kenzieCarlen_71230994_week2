{
 "cells": [
  {
   "cell_type": "code",
   "execution_count": 1,
   "metadata": {},
   "outputs": [
    {
     "name": "stdout",
     "output_type": "stream",
     "text": [
      "jadi Body Mass Index(BMI) anda adalah = 21 KG/M^2\n"
     ]
    }
   ],
   "source": [
    "#soal 2.1\n",
    "#menghitung body mass index/bmi\n",
    "#rumusnya = berat badan / tinggi badan^2\n",
    "berat = (int(input(\"silahkan masukkan berat badan anda(dalam satuan KiloGram) :\")))\n",
    "tinggi = (float(input(\"silahkan masukkan tinggi badan anda(dalam satuan Meter) :\")))\n",
    "bmi = (berat / (tinggi*tinggi))\n",
    "print(\"jadi Body Mass Index(BMI) anda adalah =\", round(bmi),\"KG/M^2\")\n"
   ]
  },
  {
   "cell_type": "code",
   "execution_count": 2,
   "metadata": {},
   "outputs": [
    {
     "name": "stdout",
     "output_type": "stream",
     "text": [
      "perhitungan untuk fungsi 2x^3 + 2x + 15/x akan dimulai \n",
      "untuk fungsi 2x^3 + 2x + 15/x dengan nilai X : 3 adalah 65\n"
     ]
    }
   ],
   "source": [
    "#soal 2.2\n",
    "X = int(input(\"silahkan masukkan nilai X : \"))\n",
    "print(\"perhitungan untuk fungsi 2x^3 + 2x + 15/x akan dimulai \")\n",
    "fungsi = ((2*X*X*X) + (2*X) + (15/X)) \n",
    "print(\"untuk fungsi 2x^3 + 2x + 15/x dengan nilai X :\",X,\"adalah\",round(fungsi))"
   ]
  },
  {
   "cell_type": "code",
   "execution_count": 1,
   "metadata": {},
   "outputs": [
    {
     "name": "stdout",
     "output_type": "stream",
     "text": [
      "1. Pendapatan Budi sebelum membayar pajak Rp.25000000\n",
      "2. Pendapatan Budi setelah membayar pajak Rp.21500000\n",
      "3. yang digunakan untuk memebeli baju dan aksesoris Rp.2150000\n",
      "4. Yang digunakan untuk beli alat tulis Rp.215000\n",
      "5. Yang digunakan untuk bersedekah Rp.4783750\n",
      "6. Yang dibagikan ke anak yatim Rp.1434900\n",
      "7. Yang dibagikan ke kaum dhuafa Rp.3348100\n"
     ]
    }
   ],
   "source": [
    "#soal 2.3\n",
    "gajiPerJam = float(input(\"Berapa gaji perjam yang anda inginkan :\"))\n",
    "jmlhJam = float(input(\"jumlah jam yang akan anda ambil dalam seminggu :\"))\n",
    "#nonpajak\n",
    "nonpjk = gajiPerJam * jmlhJam * 5\n",
    "#pajak\n",
    "pjk = nonpjk * 0.14\n",
    "bersih = nonpjk - pjk\n",
    "#baju\n",
    "bj = bersih * 0.1\n",
    "#tulis\n",
    "tulis = bersih * 0.01\n",
    "#total buku, aksesoris dan alat tulis\n",
    "bukTul = bj + tulis\n",
    "#sisa uang untuk sedekah\n",
    "sedekah = (bersih - bukTul) * 0.25\n",
    "#loop pembagian sedekah\n",
    "bagi = sedekah\n",
    "while bagi % 1000 == 0 and bagi >= 1000 or bagi % 1000 != 0 and bagi >=1000:\n",
    "    bagi -= 1000\n",
    "     \n",
    "yatim = (sedekah - bagi) *0.3\n",
    "dhuafa = (sedekah - bagi) *0.7\n",
    "\n",
    "print(\"1. Pendapatan Budi sebelum membayar pajak Rp.{}\".format(round(nonpjk)))\n",
    "print(\"2. Pendapatan Budi setelah membayar pajak Rp.{}\".format(round(bersih)))\n",
    "print(\"3. yang digunakan untuk memebeli baju dan aksesoris Rp.{}\".format(round(bj)))\n",
    "print(\"4. Yang digunakan untuk beli alat tulis Rp.{}\".format(round(tulis)))\n",
    "print(\"5. Yang digunakan untuk bersedekah Rp.{}\".format(round(sedekah)))\n",
    "print(\"6. Yang dibagikan ke anak yatim Rp.{}\".format(round(round(yatim))))\n",
    "print(\"7. Yang dibagikan ke kaum dhuafa Rp.{}\".format(round(dhuafa)))"
   ]
  }
 ],
 "metadata": {
  "kernelspec": {
   "display_name": "base",
   "language": "python",
   "name": "python3"
  },
  "language_info": {
   "codemirror_mode": {
    "name": "ipython",
    "version": 3
   },
   "file_extension": ".py",
   "mimetype": "text/x-python",
   "name": "python",
   "nbconvert_exporter": "python",
   "pygments_lexer": "ipython3",
   "version": "3.11.5"
  }
 },
 "nbformat": 4,
 "nbformat_minor": 2
}
